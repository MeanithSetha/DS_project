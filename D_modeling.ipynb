{
 "cells": [
  {
   "cell_type": "code",
   "execution_count": 3,
   "metadata": {},
   "outputs": [],
   "source": [
    "import pandas as pd\n",
    "from sklearn.model_selection import train_test_split\n",
    "from sklearn.preprocessing import MinMaxScaler, StandardScaler\n",
    "from sklearn.metrics import accuracy_score"
   ]
  },
  {
   "cell_type": "code",
   "execution_count": 4,
   "metadata": {},
   "outputs": [],
   "source": [
    "# read data from Dataset/Final_Data_of_Attack_all_data.csv\n",
    "final_data=pd.read_csv('Dataset/Final_Data_of_Attack_all_data.csv')\n",
    "all_data = final_data"
   ]
  },
  {
   "cell_type": "code",
   "execution_count": 5,
   "metadata": {},
   "outputs": [],
   "source": [
    "# drop unuse data\n",
    "all_data = all_data.drop(['attack', 'attack_types'], axis=1)"
   ]
  },
  {
   "cell_type": "code",
   "execution_count": 6,
   "metadata": {},
   "outputs": [],
   "source": [
    "# Split Data\n",
    "feature = all_data[all_data.columns.difference(['attack_flag'])]\n",
    "target= all_data[['attack_flag']]"
   ]
  },
  {
   "cell_type": "code",
   "execution_count": 7,
   "metadata": {},
   "outputs": [
    {
     "data": {
      "text/html": [
       "<div>\n",
       "<style scoped>\n",
       "    .dataframe tbody tr th:only-of-type {\n",
       "        vertical-align: middle;\n",
       "    }\n",
       "\n",
       "    .dataframe tbody tr th {\n",
       "        vertical-align: top;\n",
       "    }\n",
       "\n",
       "    .dataframe thead th {\n",
       "        text-align: right;\n",
       "    }\n",
       "</style>\n",
       "<table border=\"1\" class=\"dataframe\">\n",
       "  <thead>\n",
       "    <tr style=\"text-align: right;\">\n",
       "      <th></th>\n",
       "      <th>count</th>\n",
       "      <th>diff_srv_rate</th>\n",
       "      <th>dst_bytes</th>\n",
       "      <th>dst_host_count</th>\n",
       "      <th>dst_host_diff_srv_rate</th>\n",
       "      <th>dst_host_rerror_rate</th>\n",
       "      <th>dst_host_same_src_port_rate</th>\n",
       "      <th>dst_host_same_srv_rate</th>\n",
       "      <th>dst_host_serror_rate</th>\n",
       "      <th>dst_host_srv_count</th>\n",
       "      <th>...</th>\n",
       "      <th>service</th>\n",
       "      <th>src_bytes</th>\n",
       "      <th>srv_count</th>\n",
       "      <th>srv_diff_host_rate</th>\n",
       "      <th>srv_error_rate</th>\n",
       "      <th>srv_rerror_rate</th>\n",
       "      <th>su_attempted</th>\n",
       "      <th>urgent</th>\n",
       "      <th>wrong_fragment</th>\n",
       "      <th>duration</th>\n",
       "    </tr>\n",
       "  </thead>\n",
       "  <tbody>\n",
       "    <tr>\n",
       "      <th>0</th>\n",
       "      <td>0.001</td>\n",
       "      <td>0.0</td>\n",
       "      <td>0.02957</td>\n",
       "      <td>0.001</td>\n",
       "      <td>0.0</td>\n",
       "      <td>0.000</td>\n",
       "      <td>0.100</td>\n",
       "      <td>0.1</td>\n",
       "      <td>0.000</td>\n",
       "      <td>0.003</td>\n",
       "      <td>...</td>\n",
       "      <td>0.05</td>\n",
       "      <td>0.01511</td>\n",
       "      <td>0.001</td>\n",
       "      <td>0.0</td>\n",
       "      <td>0.0</td>\n",
       "      <td>0.0</td>\n",
       "      <td>0.0</td>\n",
       "      <td>0.0</td>\n",
       "      <td>0.0</td>\n",
       "      <td>0.0184</td>\n",
       "    </tr>\n",
       "    <tr>\n",
       "      <th>1</th>\n",
       "      <td>0.001</td>\n",
       "      <td>0.0</td>\n",
       "      <td>0.02766</td>\n",
       "      <td>0.002</td>\n",
       "      <td>0.0</td>\n",
       "      <td>0.000</td>\n",
       "      <td>0.050</td>\n",
       "      <td>0.1</td>\n",
       "      <td>0.000</td>\n",
       "      <td>0.004</td>\n",
       "      <td>...</td>\n",
       "      <td>0.05</td>\n",
       "      <td>0.01735</td>\n",
       "      <td>0.001</td>\n",
       "      <td>0.0</td>\n",
       "      <td>0.0</td>\n",
       "      <td>0.0</td>\n",
       "      <td>0.0</td>\n",
       "      <td>0.0</td>\n",
       "      <td>0.0</td>\n",
       "      <td>0.0305</td>\n",
       "    </tr>\n",
       "    <tr>\n",
       "      <th>2</th>\n",
       "      <td>0.001</td>\n",
       "      <td>0.0</td>\n",
       "      <td>0.06707</td>\n",
       "      <td>0.001</td>\n",
       "      <td>0.0</td>\n",
       "      <td>0.000</td>\n",
       "      <td>0.100</td>\n",
       "      <td>0.1</td>\n",
       "      <td>0.000</td>\n",
       "      <td>0.001</td>\n",
       "      <td>...</td>\n",
       "      <td>0.05</td>\n",
       "      <td>0.01587</td>\n",
       "      <td>0.001</td>\n",
       "      <td>0.0</td>\n",
       "      <td>0.0</td>\n",
       "      <td>0.0</td>\n",
       "      <td>0.0</td>\n",
       "      <td>0.0</td>\n",
       "      <td>0.0</td>\n",
       "      <td>0.0150</td>\n",
       "    </tr>\n",
       "    <tr>\n",
       "      <th>3</th>\n",
       "      <td>0.001</td>\n",
       "      <td>0.0</td>\n",
       "      <td>0.04551</td>\n",
       "      <td>0.001</td>\n",
       "      <td>0.0</td>\n",
       "      <td>0.000</td>\n",
       "      <td>0.100</td>\n",
       "      <td>0.1</td>\n",
       "      <td>0.000</td>\n",
       "      <td>0.001</td>\n",
       "      <td>...</td>\n",
       "      <td>0.05</td>\n",
       "      <td>0.02328</td>\n",
       "      <td>0.001</td>\n",
       "      <td>0.0</td>\n",
       "      <td>0.0</td>\n",
       "      <td>0.0</td>\n",
       "      <td>0.0</td>\n",
       "      <td>0.0</td>\n",
       "      <td>0.0</td>\n",
       "      <td>0.0060</td>\n",
       "    </tr>\n",
       "    <tr>\n",
       "      <th>4</th>\n",
       "      <td>0.001</td>\n",
       "      <td>0.0</td>\n",
       "      <td>0.03095</td>\n",
       "      <td>0.002</td>\n",
       "      <td>0.0</td>\n",
       "      <td>0.000</td>\n",
       "      <td>0.050</td>\n",
       "      <td>0.1</td>\n",
       "      <td>0.000</td>\n",
       "      <td>0.002</td>\n",
       "      <td>...</td>\n",
       "      <td>0.05</td>\n",
       "      <td>0.01567</td>\n",
       "      <td>0.001</td>\n",
       "      <td>0.0</td>\n",
       "      <td>0.0</td>\n",
       "      <td>0.0</td>\n",
       "      <td>0.0</td>\n",
       "      <td>0.0</td>\n",
       "      <td>0.0</td>\n",
       "      <td>0.0158</td>\n",
       "    </tr>\n",
       "    <tr>\n",
       "      <th>...</th>\n",
       "      <td>...</td>\n",
       "      <td>...</td>\n",
       "      <td>...</td>\n",
       "      <td>...</td>\n",
       "      <td>...</td>\n",
       "      <td>...</td>\n",
       "      <td>...</td>\n",
       "      <td>...</td>\n",
       "      <td>...</td>\n",
       "      <td>...</td>\n",
       "      <td>...</td>\n",
       "      <td>...</td>\n",
       "      <td>...</td>\n",
       "      <td>...</td>\n",
       "      <td>...</td>\n",
       "      <td>...</td>\n",
       "      <td>...</td>\n",
       "      <td>...</td>\n",
       "      <td>...</td>\n",
       "      <td>...</td>\n",
       "      <td>...</td>\n",
       "    </tr>\n",
       "    <tr>\n",
       "      <th>817545</th>\n",
       "      <td>0.004</td>\n",
       "      <td>0.0</td>\n",
       "      <td>0.08314</td>\n",
       "      <td>0.096</td>\n",
       "      <td>0.0</td>\n",
       "      <td>0.001</td>\n",
       "      <td>0.001</td>\n",
       "      <td>0.1</td>\n",
       "      <td>0.001</td>\n",
       "      <td>0.096</td>\n",
       "      <td>...</td>\n",
       "      <td>0.00</td>\n",
       "      <td>0.54540</td>\n",
       "      <td>0.004</td>\n",
       "      <td>0.0</td>\n",
       "      <td>0.0</td>\n",
       "      <td>0.0</td>\n",
       "      <td>0.0</td>\n",
       "      <td>0.0</td>\n",
       "      <td>0.0</td>\n",
       "      <td>0.0000</td>\n",
       "    </tr>\n",
       "    <tr>\n",
       "      <th>817546</th>\n",
       "      <td>0.004</td>\n",
       "      <td>0.0</td>\n",
       "      <td>0.08314</td>\n",
       "      <td>0.097</td>\n",
       "      <td>0.0</td>\n",
       "      <td>0.001</td>\n",
       "      <td>0.001</td>\n",
       "      <td>0.1</td>\n",
       "      <td>0.001</td>\n",
       "      <td>0.097</td>\n",
       "      <td>...</td>\n",
       "      <td>0.00</td>\n",
       "      <td>0.54540</td>\n",
       "      <td>0.004</td>\n",
       "      <td>0.0</td>\n",
       "      <td>0.0</td>\n",
       "      <td>0.0</td>\n",
       "      <td>0.0</td>\n",
       "      <td>0.0</td>\n",
       "      <td>0.0</td>\n",
       "      <td>0.0000</td>\n",
       "    </tr>\n",
       "    <tr>\n",
       "      <th>817547</th>\n",
       "      <td>0.003</td>\n",
       "      <td>0.0</td>\n",
       "      <td>0.08314</td>\n",
       "      <td>0.098</td>\n",
       "      <td>0.0</td>\n",
       "      <td>0.001</td>\n",
       "      <td>0.001</td>\n",
       "      <td>0.1</td>\n",
       "      <td>0.001</td>\n",
       "      <td>0.098</td>\n",
       "      <td>...</td>\n",
       "      <td>0.00</td>\n",
       "      <td>0.54540</td>\n",
       "      <td>0.003</td>\n",
       "      <td>0.0</td>\n",
       "      <td>0.0</td>\n",
       "      <td>0.0</td>\n",
       "      <td>0.0</td>\n",
       "      <td>0.0</td>\n",
       "      <td>0.0</td>\n",
       "      <td>0.0000</td>\n",
       "    </tr>\n",
       "    <tr>\n",
       "      <th>817548</th>\n",
       "      <td>0.003</td>\n",
       "      <td>0.0</td>\n",
       "      <td>0.08314</td>\n",
       "      <td>0.099</td>\n",
       "      <td>0.0</td>\n",
       "      <td>0.001</td>\n",
       "      <td>0.001</td>\n",
       "      <td>0.1</td>\n",
       "      <td>0.001</td>\n",
       "      <td>0.099</td>\n",
       "      <td>...</td>\n",
       "      <td>0.00</td>\n",
       "      <td>0.54540</td>\n",
       "      <td>0.003</td>\n",
       "      <td>0.0</td>\n",
       "      <td>0.0</td>\n",
       "      <td>0.0</td>\n",
       "      <td>0.0</td>\n",
       "      <td>0.0</td>\n",
       "      <td>0.0</td>\n",
       "      <td>0.0000</td>\n",
       "    </tr>\n",
       "    <tr>\n",
       "      <th>817549</th>\n",
       "      <td>0.003</td>\n",
       "      <td>0.0</td>\n",
       "      <td>0.08314</td>\n",
       "      <td>0.100</td>\n",
       "      <td>0.0</td>\n",
       "      <td>0.001</td>\n",
       "      <td>0.001</td>\n",
       "      <td>0.1</td>\n",
       "      <td>0.001</td>\n",
       "      <td>0.100</td>\n",
       "      <td>...</td>\n",
       "      <td>0.00</td>\n",
       "      <td>0.54540</td>\n",
       "      <td>0.003</td>\n",
       "      <td>0.0</td>\n",
       "      <td>0.0</td>\n",
       "      <td>0.0</td>\n",
       "      <td>0.0</td>\n",
       "      <td>0.0</td>\n",
       "      <td>0.0</td>\n",
       "      <td>0.0000</td>\n",
       "    </tr>\n",
       "  </tbody>\n",
       "</table>\n",
       "<p>817550 rows × 41 columns</p>\n",
       "</div>"
      ],
      "text/plain": [
       "         count   diff_srv_rate   dst_bytes   dst_host_count  \\\n",
       "0        0.001             0.0     0.02957            0.001   \n",
       "1        0.001             0.0     0.02766            0.002   \n",
       "2        0.001             0.0     0.06707            0.001   \n",
       "3        0.001             0.0     0.04551            0.001   \n",
       "4        0.001             0.0     0.03095            0.002   \n",
       "...        ...             ...         ...              ...   \n",
       "817545   0.004             0.0     0.08314            0.096   \n",
       "817546   0.004             0.0     0.08314            0.097   \n",
       "817547   0.003             0.0     0.08314            0.098   \n",
       "817548   0.003             0.0     0.08314            0.099   \n",
       "817549   0.003             0.0     0.08314            0.100   \n",
       "\n",
       "         dst_host_diff_srv_rate   dst_host_rerror_rate  \\\n",
       "0                           0.0                  0.000   \n",
       "1                           0.0                  0.000   \n",
       "2                           0.0                  0.000   \n",
       "3                           0.0                  0.000   \n",
       "4                           0.0                  0.000   \n",
       "...                         ...                    ...   \n",
       "817545                      0.0                  0.001   \n",
       "817546                      0.0                  0.001   \n",
       "817547                      0.0                  0.001   \n",
       "817548                      0.0                  0.001   \n",
       "817549                      0.0                  0.001   \n",
       "\n",
       "         dst_host_same_src_port_rate   dst_host_same_srv_rate  \\\n",
       "0                              0.100                      0.1   \n",
       "1                              0.050                      0.1   \n",
       "2                              0.100                      0.1   \n",
       "3                              0.100                      0.1   \n",
       "4                              0.050                      0.1   \n",
       "...                              ...                      ...   \n",
       "817545                         0.001                      0.1   \n",
       "817546                         0.001                      0.1   \n",
       "817547                         0.001                      0.1   \n",
       "817548                         0.001                      0.1   \n",
       "817549                         0.001                      0.1   \n",
       "\n",
       "         dst_host_serror_rate   dst_host_srv_count  ...   service   src_bytes  \\\n",
       "0                       0.000                0.003  ...      0.05     0.01511   \n",
       "1                       0.000                0.004  ...      0.05     0.01735   \n",
       "2                       0.000                0.001  ...      0.05     0.01587   \n",
       "3                       0.000                0.001  ...      0.05     0.02328   \n",
       "4                       0.000                0.002  ...      0.05     0.01567   \n",
       "...                       ...                  ...  ...       ...         ...   \n",
       "817545                  0.001                0.096  ...      0.00     0.54540   \n",
       "817546                  0.001                0.097  ...      0.00     0.54540   \n",
       "817547                  0.001                0.098  ...      0.00     0.54540   \n",
       "817548                  0.001                0.099  ...      0.00     0.54540   \n",
       "817549                  0.001                0.100  ...      0.00     0.54540   \n",
       "\n",
       "         srv_count   srv_diff_host_rate   srv_error_rate   srv_rerror_rate  \\\n",
       "0            0.001                  0.0              0.0               0.0   \n",
       "1            0.001                  0.0              0.0               0.0   \n",
       "2            0.001                  0.0              0.0               0.0   \n",
       "3            0.001                  0.0              0.0               0.0   \n",
       "4            0.001                  0.0              0.0               0.0   \n",
       "...            ...                  ...              ...               ...   \n",
       "817545       0.004                  0.0              0.0               0.0   \n",
       "817546       0.004                  0.0              0.0               0.0   \n",
       "817547       0.003                  0.0              0.0               0.0   \n",
       "817548       0.003                  0.0              0.0               0.0   \n",
       "817549       0.003                  0.0              0.0               0.0   \n",
       "\n",
       "         su_attempted   urgent   wrong_fragment  duration  \n",
       "0                 0.0      0.0              0.0    0.0184  \n",
       "1                 0.0      0.0              0.0    0.0305  \n",
       "2                 0.0      0.0              0.0    0.0150  \n",
       "3                 0.0      0.0              0.0    0.0060  \n",
       "4                 0.0      0.0              0.0    0.0158  \n",
       "...               ...      ...              ...       ...  \n",
       "817545            0.0      0.0              0.0    0.0000  \n",
       "817546            0.0      0.0              0.0    0.0000  \n",
       "817547            0.0      0.0              0.0    0.0000  \n",
       "817548            0.0      0.0              0.0    0.0000  \n",
       "817549            0.0      0.0              0.0    0.0000  \n",
       "\n",
       "[817550 rows x 41 columns]"
      ]
     },
     "execution_count": 7,
     "metadata": {},
     "output_type": "execute_result"
    }
   ],
   "source": [
    "# print feature\n",
    "feature"
   ]
  },
  {
   "cell_type": "code",
   "execution_count": 8,
   "metadata": {},
   "outputs": [],
   "source": [
    "sc = StandardScaler() #create a StandardScaler object\n",
    "sc = sc.fit(feature) #fit the standardScaler object to the data\n",
    "feature = pd.DataFrame(sc.transform(feature), columns=feature.columns) #transform the data"
   ]
  },
  {
   "cell_type": "code",
   "execution_count": 9,
   "metadata": {},
   "outputs": [],
   "source": [
    "# split data set into training and testing sets. It randomized the data and split it into two sets based on specific proportion\n",
    "X_train, X_test, y_train, y_test=train_test_split(feature, target, test_size=0.2, random_state=102)"
   ]
  },
  {
   "cell_type": "code",
   "execution_count": 10,
   "metadata": {},
   "outputs": [
    {
     "name": "stderr",
     "output_type": "stream",
     "text": [
      "c:\\Users\\sreym\\AppData\\Local\\Programs\\Python\\Python310\\lib\\site-packages\\sklearn\\utils\\validation.py:1184: DataConversionWarning: A column-vector y was passed when a 1d array was expected. Please change the shape of y to (n_samples, ), for example using ravel().\n",
      "  y = column_or_1d(y, warn=True)\n"
     ]
    },
    {
     "name": "stdout",
     "output_type": "stream",
     "text": [
      "Accuracy Score of adaBoost Classifier is :  0.9991804782582105\n"
     ]
    }
   ],
   "source": [
    "from sklearn.ensemble import AdaBoostClassifier #import the AdaBoostClassifier\n",
    "\n",
    "model_ababoost = AdaBoostClassifier() #create an instance of the ADaBoostClassifier\n",
    "model_ababoost.fit(X_train, y_train) #fit the model to the training data\n",
    "pred = model_ababoost.predict(X_test) #used the model to make predictions on the testing data\n",
    "acc_ada = accuracy_score(pred, y_test) #calculate the accuancy of the model\n",
    "\n",
    "print('Accuracy Score of adaBoost Classifier is : ', acc_ada) #print the accurancy score"
   ]
  },
  {
   "cell_type": "code",
   "execution_count": 11,
   "metadata": {},
   "outputs": [
    {
     "name": "stdout",
     "output_type": "stream",
     "text": [
      "Accuracy Score of Decision Tree is :  0.9998348724848634\n"
     ]
    }
   ],
   "source": [
    "from sklearn.tree import DecisionTreeClassifier #import the DecisionTreeClassifier class\n",
    "\n",
    "model_DT = DecisionTreeClassifier() #create an instance of the DecisionTreeClassifier\n",
    "model_DT.fit(X_train, y_train) #fit the model to the training data\n",
    "pred_DT = model_DT.predict(X_test) #use the model to make prediction on the testing data\n",
    "acc_DT = accuracy_score(pred_DT, y_test) #calculate the accurancy of the model\n",
    "\n",
    "print('Accuracy Score of Decision Tree is : ', acc_DT) #print the accurancy score"
   ]
  },
  {
   "cell_type": "code",
   "execution_count": 12,
   "metadata": {},
   "outputs": [
    {
     "data": {
      "text/html": [
       "<div>\n",
       "<style scoped>\n",
       "    .dataframe tbody tr th:only-of-type {\n",
       "        vertical-align: middle;\n",
       "    }\n",
       "\n",
       "    .dataframe tbody tr th {\n",
       "        vertical-align: top;\n",
       "    }\n",
       "\n",
       "    .dataframe thead th {\n",
       "        text-align: right;\n",
       "    }\n",
       "</style>\n",
       "<table border=\"1\" class=\"dataframe\">\n",
       "  <thead>\n",
       "    <tr style=\"text-align: right;\">\n",
       "      <th></th>\n",
       "      <th>Model</th>\n",
       "      <th>Score</th>\n",
       "    </tr>\n",
       "  </thead>\n",
       "  <tbody>\n",
       "    <tr>\n",
       "      <th>0</th>\n",
       "      <td>Ada Boost Classifier</td>\n",
       "      <td>0.999835</td>\n",
       "    </tr>\n",
       "    <tr>\n",
       "      <th>1</th>\n",
       "      <td>Decision Tree Classifier</td>\n",
       "      <td>0.999180</td>\n",
       "    </tr>\n",
       "  </tbody>\n",
       "</table>\n",
       "</div>"
      ],
      "text/plain": [
       "                      Model     Score\n",
       "0      Ada Boost Classifier  0.999835\n",
       "1  Decision Tree Classifier  0.999180"
      ]
     },
     "execution_count": 12,
     "metadata": {},
     "output_type": "execute_result"
    }
   ],
   "source": [
    "models = pd.DataFrame({\n",
    "    'Model' : ['Decision Tree Classifier', 'Ada Boost Classifier'],\n",
    "    'Score' : [acc_ada, acc_DT]\n",
    "})\n",
    "\n",
    "models.sort_values(by= 'Score', ascending= False, ignore_index=True)\n"
   ]
  },
  {
   "cell_type": "code",
   "execution_count": 13,
   "metadata": {},
   "outputs": [],
   "source": [
    "# Predicted probabilities on testing data\n",
    "X_test['test_pred'] = model_DT.predict(X_test)"
   ]
  },
  {
   "cell_type": "code",
   "execution_count": 14,
   "metadata": {},
   "outputs": [],
   "source": [
    "# Doing the final predictions\n",
    "X_test['attack_flag'] = X_test['test_pred'].apply(lambda x: 1 if x>0.27 else 0)"
   ]
  },
  {
   "cell_type": "code",
   "execution_count": 15,
   "metadata": {},
   "outputs": [
    {
     "data": {
      "text/plain": [
       "attack_flag\n",
       "0    115458\n",
       "1     48052\n",
       "Name: count, dtype: int64"
      ]
     },
     "execution_count": 15,
     "metadata": {},
     "output_type": "execute_result"
    }
   ],
   "source": [
    "# print new series containing counts of unique values in descending order\n",
    "X_test['attack_flag'].value_counts()\n"
   ]
  },
  {
   "cell_type": "markdown",
   "metadata": {},
   "source": [
    "Mutinomial classification"
   ]
  },
  {
   "cell_type": "code",
   "execution_count": 16,
   "metadata": {},
   "outputs": [],
   "source": [
    "multi_data = final_data #assign the final_data to a new multi_data\n",
    "multi_data.drop(columns=['attack_flag'], inplace=True)\n",
    "#drop the 'attack_flag' column from multi_data"
   ]
  },
  {
   "cell_type": "code",
   "execution_count": 17,
   "metadata": {},
   "outputs": [],
   "source": [
    "multi_data['attack_types'] = multi_data['attack_types'].map({'normal':'normal', 'neptune':'dos', 'satan':'probe', 'smurf':'dos',\n",
    "                                                'portsweep':'probe', 'nmap':'probe', 'back':'dos', 'guess_passwd':'r2l',\n",
    "                                                'buffer_overflow':'u2r', 'rootkit':'u2r', 'ftp_write':'r2l'})\n",
    "# mapping the values in the 'attack_types' column to a new set of values based on the predefined mapping\n"
   ]
  },
  {
   "cell_type": "code",
   "execution_count": 18,
   "metadata": {},
   "outputs": [
    {
     "data": {
      "text/plain": [
       "attack_types\n",
       "normal    576710\n",
       "dos       231203\n",
       "probe       9537\n",
       "r2l           60\n",
       "u2r           40\n",
       "Name: count, dtype: int64"
      ]
     },
     "execution_count": 18,
     "metadata": {},
     "output_type": "execute_result"
    }
   ],
   "source": [
    "# print new Series containing counts of unique values in descending order\n",
    "multi_data['attack_types'].value_counts()"
   ]
  },
  {
   "cell_type": "code",
   "execution_count": 19,
   "metadata": {},
   "outputs": [],
   "source": [
    "# mapping the values in the 'attack_types' column to a new set of integer values based on the predifined mapping\n",
    "multi_data['attack_types'] = multi_data['attack_types'].map({'normal' : 0, 'dos': 1, 'probe':2, 'r2l': 3, 'u2r':4})"
   ]
  },
  {
   "cell_type": "code",
   "execution_count": 20,
   "metadata": {},
   "outputs": [],
   "source": [
    "# drop column\n",
    "multi_data = multi_data.drop(['attack'], axis=1)"
   ]
  },
  {
   "cell_type": "code",
   "execution_count": 21,
   "metadata": {},
   "outputs": [
    {
     "name": "stdout",
     "output_type": "stream",
     "text": [
      "Requirement already satisfied: xgboost in c:\\users\\sreym\\appdata\\local\\programs\\python\\python310\\lib\\site-packages (1.7.6)Note: you may need to restart the kernel to use updated packages.\n",
      "\n",
      "Requirement already satisfied: scipy in c:\\users\\sreym\\appdata\\local\\programs\\python\\python310\\lib\\site-packages (from xgboost) (1.11.1)\n",
      "Requirement already satisfied: numpy in c:\\users\\sreym\\appdata\\local\\programs\\python\\python310\\lib\\site-packages (from xgboost) (1.25.1)\n"
     ]
    },
    {
     "name": "stderr",
     "output_type": "stream",
     "text": [
      "WARNING: You are using pip version 22.0.4; however, version 23.2.1 is available.\n",
      "You should consider upgrading via the 'c:\\Users\\sreym\\AppData\\Local\\Programs\\Python\\Python310\\python.exe -m pip install --upgrade pip' command.\n"
     ]
    }
   ],
   "source": [
    "pip install xgboost"
   ]
  },
  {
   "cell_type": "code",
   "execution_count": 22,
   "metadata": {},
   "outputs": [],
   "source": [
    "from sklearn.model_selection import train_test_split\n",
    "from sklearn.preprocessing import MinMaxScaler, StandardScaler\n",
    "from sklearn.metrics import accuracy_score"
   ]
  },
  {
   "cell_type": "code",
   "execution_count": 23,
   "metadata": {},
   "outputs": [],
   "source": [
    "# Split Data\n",
    "feature_multi = multi_data[multi_data.columns.difference(['attack_types'])]\n",
    "target_multi= multi_data[['attack_types']]"
   ]
  },
  {
   "cell_type": "code",
   "execution_count": 24,
   "metadata": {},
   "outputs": [],
   "source": [
    "sc=StandardScaler() #create an instance of the StandardScaler class\n",
    "sc=sc.fit(feature_multi) #fit the StandardScaler to the feature_multi DataFrame\n",
    "X2=pd.DataFrame(sc.transform(feature_multi), columns=feature_multi.columns) #Standardize the feature_multi and create a new celled X2"
   ]
  },
  {
   "cell_type": "code",
   "execution_count": 25,
   "metadata": {},
   "outputs": [],
   "source": [
    "train_X,test_X,train_y, test_y=train_test_split(feature_multi,target_multi, test_size=0.2, random_state=102)"
   ]
  },
  {
   "cell_type": "code",
   "execution_count": 26,
   "metadata": {},
   "outputs": [
    {
     "name": "stderr",
     "output_type": "stream",
     "text": [
      "c:\\Users\\sreym\\AppData\\Local\\Programs\\Python\\Python310\\lib\\site-packages\\sklearn\\utils\\validation.py:1184: DataConversionWarning: A column-vector y was passed when a 1d array was expected. Please change the shape of y to (n_samples, ), for example using ravel().\n",
      "  y = column_or_1d(y, warn=True)\n"
     ]
    },
    {
     "name": "stdout",
     "output_type": "stream",
     "text": [
      "Accuracy Score of Logistic Regression is 0.9951073328848389\n"
     ]
    },
    {
     "name": "stderr",
     "output_type": "stream",
     "text": [
      "c:\\Users\\sreym\\AppData\\Local\\Programs\\Python\\Python310\\lib\\site-packages\\sklearn\\linear_model\\_logistic.py:460: ConvergenceWarning: lbfgs failed to converge (status=1):\n",
      "STOP: TOTAL NO. of ITERATIONS REACHED LIMIT.\n",
      "\n",
      "Increase the number of iterations (max_iter) or scale the data as shown in:\n",
      "    https://scikit-learn.org/stable/modules/preprocessing.html\n",
      "Please also refer to the documentation for alternative solver options:\n",
      "    https://scikit-learn.org/stable/modules/linear_model.html#logistic-regression\n",
      "  n_iter_i = _check_optimize_result(\n"
     ]
    }
   ],
   "source": [
    "from sklearn.linear_model import LogisticRegression #import the logisticRegression class\n",
    "\n",
    "lr=LogisticRegression() # create an instance of the LogisticRegreesion class\n",
    "lr.fit(train_X,train_y) # fit the logistic regression model to the training data\n",
    "pred_lr=lr.predict(test_X) # use the trained model to make predictions on the test data\n",
    "acc_lr = accuracy_score(pred_lr,test_y) #calculate the accurancy of the predictions\n",
    "print('Accuracy Score of Logistic Regression is',acc_lr) #print the accurancy score of the logistic regression model"
   ]
  },
  {
   "cell_type": "code",
   "execution_count": 27,
   "metadata": {},
   "outputs": [
    {
     "name": "stdout",
     "output_type": "stream",
     "text": [
      "Accuracy Score of XGB Classifier is :  0.9998960308238029\n"
     ]
    }
   ],
   "source": [
    "from xgboost import XGBClassifier #import the XGB classifier class\n",
    "\n",
    "xgb = XGBClassifier() #create an instance of the XGBoost classifier to the training data\n",
    "xgb.fit(train_X,train_y ) #fit the XGBoost classifier to the training data\n",
    "pred_xgb = xgb.predict(test_X) #use the trained model to make predictions on the test data\n",
    "acc_xgb=accuracy_score(pred_xgb,test_y) # calculate the accuracy of the predictions\n",
    "\n",
    "print(\"Accuracy Score of XGB Classifier is : \",acc_xgb) #print the accuracy score of the XGBoost classifier"
   ]
  },
  {
   "cell_type": "code",
   "execution_count": 28,
   "metadata": {},
   "outputs": [
    {
     "data": {
      "text/html": [
       "<div>\n",
       "<style scoped>\n",
       "    .dataframe tbody tr th:only-of-type {\n",
       "        vertical-align: middle;\n",
       "    }\n",
       "\n",
       "    .dataframe tbody tr th {\n",
       "        vertical-align: top;\n",
       "    }\n",
       "\n",
       "    .dataframe thead th {\n",
       "        text-align: right;\n",
       "    }\n",
       "</style>\n",
       "<table border=\"1\" class=\"dataframe\">\n",
       "  <thead>\n",
       "    <tr style=\"text-align: right;\">\n",
       "      <th></th>\n",
       "      <th>Model</th>\n",
       "      <th>Score</th>\n",
       "    </tr>\n",
       "  </thead>\n",
       "  <tbody>\n",
       "    <tr>\n",
       "      <th>0</th>\n",
       "      <td>XGBClassifier</td>\n",
       "      <td>0.999896</td>\n",
       "    </tr>\n",
       "    <tr>\n",
       "      <th>1</th>\n",
       "      <td>Logistic Regression</td>\n",
       "      <td>0.995107</td>\n",
       "    </tr>\n",
       "  </tbody>\n",
       "</table>\n",
       "</div>"
      ],
      "text/plain": [
       "                 Model     Score\n",
       "0        XGBClassifier  0.999896\n",
       "1  Logistic Regression  0.995107"
      ]
     },
     "execution_count": 28,
     "metadata": {},
     "output_type": "execute_result"
    }
   ],
   "source": [
    "models_multi = pd.DataFrame({\n",
    "    'Model': ['Logistic Regression', 'XGBClassifier'],\n",
    "    'Score': [acc_lr, acc_xgb]\n",
    "\n",
    "})\n",
    "models_multi.sort_values(by= 'Score', ascending=False, ignore_index=True)"
   ]
  },
  {
   "cell_type": "code",
   "execution_count": 29,
   "metadata": {},
   "outputs": [],
   "source": [
    "# Predicted probabilites on testing data\n",
    "test_X['predicted'] = lr.predict(test_X)"
   ]
  },
  {
   "cell_type": "code",
   "execution_count": 30,
   "metadata": {},
   "outputs": [
    {
     "data": {
      "text/plain": [
       "array([0, 1, 2], dtype=int64)"
      ]
     },
     "execution_count": 30,
     "metadata": {},
     "output_type": "execute_result"
    }
   ],
   "source": [
    "test_X.predicted.unique() "
   ]
  },
  {
   "cell_type": "code",
   "execution_count": 31,
   "metadata": {},
   "outputs": [],
   "source": [
    "# assigning original names to attack class\n",
    "test_X['predicted'] = test_X['predicted'].map({0:'normal', 1:'dos', 3: 'r2l', 4:'u2r'})"
   ]
  },
  {
   "cell_type": "code",
   "execution_count": 32,
   "metadata": {},
   "outputs": [
    {
     "data": {
      "text/plain": [
       "predicted\n",
       "normal    115913\n",
       "dos        46054\n",
       "Name: count, dtype: int64"
      ]
     },
     "execution_count": 32,
     "metadata": {},
     "output_type": "execute_result"
    }
   ],
   "source": [
    "test_X['predicted'].value_counts()"
   ]
  }
 ],
 "metadata": {
  "kernelspec": {
   "display_name": "Python 3",
   "language": "python",
   "name": "python3"
  },
  "language_info": {
   "codemirror_mode": {
    "name": "ipython",
    "version": 3
   },
   "file_extension": ".py",
   "mimetype": "text/x-python",
   "name": "python",
   "nbconvert_exporter": "python",
   "pygments_lexer": "ipython3",
   "version": "3.10.4"
  },
  "orig_nbformat": 4
 },
 "nbformat": 4,
 "nbformat_minor": 2
}
