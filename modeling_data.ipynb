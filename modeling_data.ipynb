{
 "cells": [
  {
   "cell_type": "code",
   "execution_count": 2,
   "metadata": {},
   "outputs": [
    {
     "name": "stderr",
     "output_type": "stream",
     "text": [
      "c:\\Users\\User\\AppData\\Local\\Programs\\Python\\Python311\\Lib\\site-packages\\sklearn\\metrics\\_classification.py:1469: UndefinedMetricWarning: Precision and F-score are ill-defined and being set to 0.0 in labels with no predicted samples. Use `zero_division` parameter to control this behavior.\n",
      "  _warn_prf(average, modifier, msg_start, len(result))\n",
      "c:\\Users\\User\\AppData\\Local\\Programs\\Python\\Python311\\Lib\\site-packages\\sklearn\\metrics\\_classification.py:1469: UndefinedMetricWarning: Precision and F-score are ill-defined and being set to 0.0 in labels with no predicted samples. Use `zero_division` parameter to control this behavior.\n",
      "  _warn_prf(average, modifier, msg_start, len(result))\n",
      "c:\\Users\\User\\AppData\\Local\\Programs\\Python\\Python311\\Lib\\site-packages\\sklearn\\metrics\\_classification.py:1469: UndefinedMetricWarning: Precision and F-score are ill-defined and being set to 0.0 in labels with no predicted samples. Use `zero_division` parameter to control this behavior.\n",
      "  _warn_prf(average, modifier, msg_start, len(result))\n"
     ]
    },
    {
     "name": "stdout",
     "output_type": "stream",
     "text": [
      "Accuracy: 0.999877683322121\n",
      "\n",
      "Classification Report:\n",
      "                                         precision    recall  f1-score   support\n",
      "\n",
      "                Data_of_Attack_Back.csv       1.00      1.00      1.00       311\n",
      "       Data_of_Attack_Back_FTPWrite.csv       0.00      0.00      0.00         4\n",
      "  Data_of_Attack_Back_GuessPassword.csv       1.00      1.00      1.00        13\n",
      "           Data_of_Attack_Back_NMap.csv       1.00      1.00      1.00       449\n",
      "        Data_of_Attack_Back_Neptune.csv       1.00      1.00      1.00     68168\n",
      "         Data_of_Attack_Back_Normal.csv       1.00      1.00      1.00    173008\n",
      "      Data_of_Attack_Back_PortSweep.csv       0.99      1.00      0.99       861\n",
      "          Data_of_Attack_Back_Satan.csv       1.00      0.99      1.00      1564\n",
      "          Data_of_Attack_Back_Smurf.csv       1.00      1.00      1.00       877\n",
      "Data_of_Atttack_Back_BufferOverflow.csv       0.89      0.80      0.84        10\n",
      "\n",
      "                               accuracy                           1.00    245265\n",
      "                              macro avg       0.89      0.88      0.88    245265\n",
      "                           weighted avg       1.00      1.00      1.00    245265\n",
      "\n",
      "\n",
      "Confusion Matrix:\n",
      "[[   311      0      0      0      0      0      0      0      0      0]\n",
      " [     0      0      0      0      0      4      0      0      0      0]\n",
      " [     0      0     13      0      0      0      0      0      0      0]\n",
      " [     0      0      0    448      0      0      1      0      0      0]\n",
      " [     0      0      0      0  68166      2      0      0      0      0]\n",
      " [     1      0      0      1      0 173003      2      0      0      1]\n",
      " [     0      0      0      0      0      3    858      0      0      0]\n",
      " [     0      0      0      1      0      7      3   1553      0      0]\n",
      " [     0      0      0      0      0      2      0      0    875      0]\n",
      " [     0      0      0      0      0      2      0      0      0      8]]\n"
     ]
    }
   ],
   "source": [
    "import pandas as pd\n",
    "from sklearn.model_selection import train_test_split\n",
    "from sklearn.ensemble import RandomForestClassifier\n",
    "from sklearn.metrics import accuracy_score, classification_report, confusion_matrix\n",
    "\n",
    "# read the data from a CSV file\n",
    "data = pd.read_csv('Dataset/Data_of_Attack_all_data.csv')\n",
    "\n",
    "# Separate features (X) and the target variable (y)\n",
    "X = data.drop(columns=['attack'])\n",
    "y = data['attack']\n",
    "\n",
    "# Split the data into training and testing sets\n",
    "X_train, X_test, y_train, y_test = train_test_split(X, y, test_size=0.3, random_state=42)\n",
    "\n",
    "# Create the Random Forest Classifier\n",
    "rf_classifier = RandomForestClassifier(n_estimators=100, random_state=42)\n",
    "\n",
    "# Train the classifier on the training data\n",
    "rf_classifier.fit(X_train, y_train)\n",
    "\n",
    "# Make predictions on the testing data\n",
    "y_pred = rf_classifier.predict(X_test)\n",
    "\n",
    "# Evaluate the performance of the classifier\n",
    "accuracy = accuracy_score(y_test, y_pred)\n",
    "classification_rep = classification_report(y_test, y_pred)\n",
    "conf_matrix = confusion_matrix(y_test, y_pred)\n",
    "\n",
    "# Print the evaluation metrics\n",
    "print(\"Accuracy:\", accuracy)\n",
    "print(\"\\nClassification Report:\")\n",
    "print(classification_rep)\n",
    "print(\"\\nConfusion Matrix:\")\n",
    "print(conf_matrix)\n"
   ]
  }
 ],
 "metadata": {
  "kernelspec": {
   "display_name": "Python 3",
   "language": "python",
   "name": "python3"
  },
  "language_info": {
   "codemirror_mode": {
    "name": "ipython",
    "version": 3
   },
   "file_extension": ".py",
   "mimetype": "text/x-python",
   "name": "python",
   "nbconvert_exporter": "python",
   "pygments_lexer": "ipython3",
   "version": "3.11.4"
  },
  "orig_nbformat": 4
 },
 "nbformat": 4,
 "nbformat_minor": 2
}
